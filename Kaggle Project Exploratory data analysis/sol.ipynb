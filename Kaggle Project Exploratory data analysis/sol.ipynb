{
 "cells": [
  {
   "cell_type": "markdown",
   "metadata": {},
   "source": [
    "# Overview and approach\n",
    "Ok, so i want to get to get following tasks before predictions.\n",
    "- Hypothesis: These are the major tasks that will guide us in our machine learning process\n",
    "> Cancalleation_reason is associated with start and destination airports and airline <br>\n",
    "> Delays are associated with airline and planes ( data of planes is obtained from separate data source ) <br>\n",
    "> Diversions can be associated with destination and condition( data of conditions isn't available )\n",
    "- Insights: These are mini-tasks that i want to check \n",
    "> All airlines with their cancellation reasons in sorted order <br>\n",
    "> All airlines with their delay types in sorted order <br>\n",
    "> All airlines and their diversion <br>\n",
    "> A ranking function for airlines that considers scores of airline's flight delay, diversion and cancellation"
   ]
  },
  {
   "cell_type": "code",
   "execution_count": 1,
   "metadata": {},
   "outputs": [],
   "source": [
    "import numpy as np\n",
    "import pandas as pd\n",
    "import matplotlib.pylab as plt\n",
    "\n",
    "from pprint import pprint\n",
    "from prettytable import PrettyTable"
   ]
  },
  {
   "cell_type": "markdown",
   "metadata": {},
   "source": [
    "### Birdeye view of Flights data"
   ]
  },
  {
   "cell_type": "code",
   "execution_count": 2,
   "metadata": {},
   "outputs": [
    {
     "name": "stdout",
     "output_type": "stream",
     "text": [
      "ROWS:  469000  COLS:  31\n"
     ]
    },
    {
     "data": {
      "text/html": [
       "<div>\n",
       "<style>\n",
       "    .dataframe thead tr:only-child th {\n",
       "        text-align: right;\n",
       "    }\n",
       "\n",
       "    .dataframe thead th {\n",
       "        text-align: left;\n",
       "    }\n",
       "\n",
       "    .dataframe tbody tr th {\n",
       "        vertical-align: top;\n",
       "    }\n",
       "</style>\n",
       "<table border=\"1\" class=\"dataframe\">\n",
       "  <thead>\n",
       "    <tr style=\"text-align: right;\">\n",
       "      <th></th>\n",
       "      <th>YEAR</th>\n",
       "      <th>MONTH</th>\n",
       "      <th>DAY</th>\n",
       "      <th>DAY_OF_WEEK</th>\n",
       "      <th>AIRLINE</th>\n",
       "      <th>FLIGHT_NUMBER</th>\n",
       "      <th>TAIL_NUMBER</th>\n",
       "      <th>ORIGIN_AIRPORT</th>\n",
       "      <th>DESTINATION_AIRPORT</th>\n",
       "      <th>SCHEDULED_DEPARTURE</th>\n",
       "      <th>...</th>\n",
       "      <th>ARRIVAL_TIME</th>\n",
       "      <th>ARRIVAL_DELAY</th>\n",
       "      <th>DIVERTED</th>\n",
       "      <th>CANCELLED</th>\n",
       "      <th>CANCELLATION_REASON</th>\n",
       "      <th>AIR_SYSTEM_DELAY</th>\n",
       "      <th>SECURITY_DELAY</th>\n",
       "      <th>AIRLINE_DELAY</th>\n",
       "      <th>LATE_AIRCRAFT_DELAY</th>\n",
       "      <th>WEATHER_DELAY</th>\n",
       "    </tr>\n",
       "  </thead>\n",
       "  <tbody>\n",
       "    <tr>\n",
       "      <th>0</th>\n",
       "      <td>2015</td>\n",
       "      <td>1</td>\n",
       "      <td>1</td>\n",
       "      <td>4</td>\n",
       "      <td>AS</td>\n",
       "      <td>98</td>\n",
       "      <td>N407AS</td>\n",
       "      <td>ANC</td>\n",
       "      <td>SEA</td>\n",
       "      <td>5</td>\n",
       "      <td>...</td>\n",
       "      <td>408.0</td>\n",
       "      <td>-22.0</td>\n",
       "      <td>0</td>\n",
       "      <td>0</td>\n",
       "      <td>NaN</td>\n",
       "      <td>NaN</td>\n",
       "      <td>NaN</td>\n",
       "      <td>NaN</td>\n",
       "      <td>NaN</td>\n",
       "      <td>NaN</td>\n",
       "    </tr>\n",
       "    <tr>\n",
       "      <th>1</th>\n",
       "      <td>2015</td>\n",
       "      <td>1</td>\n",
       "      <td>1</td>\n",
       "      <td>4</td>\n",
       "      <td>AA</td>\n",
       "      <td>2336</td>\n",
       "      <td>N3KUAA</td>\n",
       "      <td>LAX</td>\n",
       "      <td>PBI</td>\n",
       "      <td>10</td>\n",
       "      <td>...</td>\n",
       "      <td>741.0</td>\n",
       "      <td>-9.0</td>\n",
       "      <td>0</td>\n",
       "      <td>0</td>\n",
       "      <td>NaN</td>\n",
       "      <td>NaN</td>\n",
       "      <td>NaN</td>\n",
       "      <td>NaN</td>\n",
       "      <td>NaN</td>\n",
       "      <td>NaN</td>\n",
       "    </tr>\n",
       "    <tr>\n",
       "      <th>2</th>\n",
       "      <td>2015</td>\n",
       "      <td>1</td>\n",
       "      <td>1</td>\n",
       "      <td>4</td>\n",
       "      <td>US</td>\n",
       "      <td>840</td>\n",
       "      <td>N171US</td>\n",
       "      <td>SFO</td>\n",
       "      <td>CLT</td>\n",
       "      <td>20</td>\n",
       "      <td>...</td>\n",
       "      <td>811.0</td>\n",
       "      <td>5.0</td>\n",
       "      <td>0</td>\n",
       "      <td>0</td>\n",
       "      <td>NaN</td>\n",
       "      <td>NaN</td>\n",
       "      <td>NaN</td>\n",
       "      <td>NaN</td>\n",
       "      <td>NaN</td>\n",
       "      <td>NaN</td>\n",
       "    </tr>\n",
       "    <tr>\n",
       "      <th>3</th>\n",
       "      <td>2015</td>\n",
       "      <td>1</td>\n",
       "      <td>1</td>\n",
       "      <td>4</td>\n",
       "      <td>AA</td>\n",
       "      <td>258</td>\n",
       "      <td>N3HYAA</td>\n",
       "      <td>LAX</td>\n",
       "      <td>MIA</td>\n",
       "      <td>20</td>\n",
       "      <td>...</td>\n",
       "      <td>756.0</td>\n",
       "      <td>-9.0</td>\n",
       "      <td>0</td>\n",
       "      <td>0</td>\n",
       "      <td>NaN</td>\n",
       "      <td>NaN</td>\n",
       "      <td>NaN</td>\n",
       "      <td>NaN</td>\n",
       "      <td>NaN</td>\n",
       "      <td>NaN</td>\n",
       "    </tr>\n",
       "    <tr>\n",
       "      <th>4</th>\n",
       "      <td>2015</td>\n",
       "      <td>1</td>\n",
       "      <td>1</td>\n",
       "      <td>4</td>\n",
       "      <td>AS</td>\n",
       "      <td>135</td>\n",
       "      <td>N527AS</td>\n",
       "      <td>SEA</td>\n",
       "      <td>ANC</td>\n",
       "      <td>25</td>\n",
       "      <td>...</td>\n",
       "      <td>259.0</td>\n",
       "      <td>-21.0</td>\n",
       "      <td>0</td>\n",
       "      <td>0</td>\n",
       "      <td>NaN</td>\n",
       "      <td>NaN</td>\n",
       "      <td>NaN</td>\n",
       "      <td>NaN</td>\n",
       "      <td>NaN</td>\n",
       "      <td>NaN</td>\n",
       "    </tr>\n",
       "    <tr>\n",
       "      <th>5</th>\n",
       "      <td>2015</td>\n",
       "      <td>1</td>\n",
       "      <td>1</td>\n",
       "      <td>4</td>\n",
       "      <td>DL</td>\n",
       "      <td>806</td>\n",
       "      <td>N3730B</td>\n",
       "      <td>SFO</td>\n",
       "      <td>MSP</td>\n",
       "      <td>25</td>\n",
       "      <td>...</td>\n",
       "      <td>610.0</td>\n",
       "      <td>8.0</td>\n",
       "      <td>0</td>\n",
       "      <td>0</td>\n",
       "      <td>NaN</td>\n",
       "      <td>NaN</td>\n",
       "      <td>NaN</td>\n",
       "      <td>NaN</td>\n",
       "      <td>NaN</td>\n",
       "      <td>NaN</td>\n",
       "    </tr>\n",
       "    <tr>\n",
       "      <th>6</th>\n",
       "      <td>2015</td>\n",
       "      <td>1</td>\n",
       "      <td>1</td>\n",
       "      <td>4</td>\n",
       "      <td>NK</td>\n",
       "      <td>612</td>\n",
       "      <td>N635NK</td>\n",
       "      <td>LAS</td>\n",
       "      <td>MSP</td>\n",
       "      <td>25</td>\n",
       "      <td>...</td>\n",
       "      <td>509.0</td>\n",
       "      <td>-17.0</td>\n",
       "      <td>0</td>\n",
       "      <td>0</td>\n",
       "      <td>NaN</td>\n",
       "      <td>NaN</td>\n",
       "      <td>NaN</td>\n",
       "      <td>NaN</td>\n",
       "      <td>NaN</td>\n",
       "      <td>NaN</td>\n",
       "    </tr>\n",
       "    <tr>\n",
       "      <th>7</th>\n",
       "      <td>2015</td>\n",
       "      <td>1</td>\n",
       "      <td>1</td>\n",
       "      <td>4</td>\n",
       "      <td>US</td>\n",
       "      <td>2013</td>\n",
       "      <td>N584UW</td>\n",
       "      <td>LAX</td>\n",
       "      <td>CLT</td>\n",
       "      <td>30</td>\n",
       "      <td>...</td>\n",
       "      <td>753.0</td>\n",
       "      <td>-10.0</td>\n",
       "      <td>0</td>\n",
       "      <td>0</td>\n",
       "      <td>NaN</td>\n",
       "      <td>NaN</td>\n",
       "      <td>NaN</td>\n",
       "      <td>NaN</td>\n",
       "      <td>NaN</td>\n",
       "      <td>NaN</td>\n",
       "    </tr>\n",
       "    <tr>\n",
       "      <th>8</th>\n",
       "      <td>2015</td>\n",
       "      <td>1</td>\n",
       "      <td>1</td>\n",
       "      <td>4</td>\n",
       "      <td>AA</td>\n",
       "      <td>1112</td>\n",
       "      <td>N3LAAA</td>\n",
       "      <td>SFO</td>\n",
       "      <td>DFW</td>\n",
       "      <td>30</td>\n",
       "      <td>...</td>\n",
       "      <td>532.0</td>\n",
       "      <td>-13.0</td>\n",
       "      <td>0</td>\n",
       "      <td>0</td>\n",
       "      <td>NaN</td>\n",
       "      <td>NaN</td>\n",
       "      <td>NaN</td>\n",
       "      <td>NaN</td>\n",
       "      <td>NaN</td>\n",
       "      <td>NaN</td>\n",
       "    </tr>\n",
       "    <tr>\n",
       "      <th>9</th>\n",
       "      <td>2015</td>\n",
       "      <td>1</td>\n",
       "      <td>1</td>\n",
       "      <td>4</td>\n",
       "      <td>DL</td>\n",
       "      <td>1173</td>\n",
       "      <td>N826DN</td>\n",
       "      <td>LAS</td>\n",
       "      <td>ATL</td>\n",
       "      <td>30</td>\n",
       "      <td>...</td>\n",
       "      <td>656.0</td>\n",
       "      <td>-15.0</td>\n",
       "      <td>0</td>\n",
       "      <td>0</td>\n",
       "      <td>NaN</td>\n",
       "      <td>NaN</td>\n",
       "      <td>NaN</td>\n",
       "      <td>NaN</td>\n",
       "      <td>NaN</td>\n",
       "      <td>NaN</td>\n",
       "    </tr>\n",
       "  </tbody>\n",
       "</table>\n",
       "<p>10 rows × 31 columns</p>\n",
       "</div>"
      ],
      "text/plain": [
       "   YEAR  MONTH  DAY  DAY_OF_WEEK AIRLINE  FLIGHT_NUMBER TAIL_NUMBER  \\\n",
       "0  2015      1    1            4      AS             98      N407AS   \n",
       "1  2015      1    1            4      AA           2336      N3KUAA   \n",
       "2  2015      1    1            4      US            840      N171US   \n",
       "3  2015      1    1            4      AA            258      N3HYAA   \n",
       "4  2015      1    1            4      AS            135      N527AS   \n",
       "5  2015      1    1            4      DL            806      N3730B   \n",
       "6  2015      1    1            4      NK            612      N635NK   \n",
       "7  2015      1    1            4      US           2013      N584UW   \n",
       "8  2015      1    1            4      AA           1112      N3LAAA   \n",
       "9  2015      1    1            4      DL           1173      N826DN   \n",
       "\n",
       "  ORIGIN_AIRPORT DESTINATION_AIRPORT  SCHEDULED_DEPARTURE      ...        \\\n",
       "0            ANC                 SEA                    5      ...         \n",
       "1            LAX                 PBI                   10      ...         \n",
       "2            SFO                 CLT                   20      ...         \n",
       "3            LAX                 MIA                   20      ...         \n",
       "4            SEA                 ANC                   25      ...         \n",
       "5            SFO                 MSP                   25      ...         \n",
       "6            LAS                 MSP                   25      ...         \n",
       "7            LAX                 CLT                   30      ...         \n",
       "8            SFO                 DFW                   30      ...         \n",
       "9            LAS                 ATL                   30      ...         \n",
       "\n",
       "   ARRIVAL_TIME  ARRIVAL_DELAY  DIVERTED  CANCELLED  CANCELLATION_REASON  \\\n",
       "0         408.0          -22.0         0          0                  NaN   \n",
       "1         741.0           -9.0         0          0                  NaN   \n",
       "2         811.0            5.0         0          0                  NaN   \n",
       "3         756.0           -9.0         0          0                  NaN   \n",
       "4         259.0          -21.0         0          0                  NaN   \n",
       "5         610.0            8.0         0          0                  NaN   \n",
       "6         509.0          -17.0         0          0                  NaN   \n",
       "7         753.0          -10.0         0          0                  NaN   \n",
       "8         532.0          -13.0         0          0                  NaN   \n",
       "9         656.0          -15.0         0          0                  NaN   \n",
       "\n",
       "   AIR_SYSTEM_DELAY  SECURITY_DELAY  AIRLINE_DELAY  LATE_AIRCRAFT_DELAY  \\\n",
       "0               NaN             NaN            NaN                  NaN   \n",
       "1               NaN             NaN            NaN                  NaN   \n",
       "2               NaN             NaN            NaN                  NaN   \n",
       "3               NaN             NaN            NaN                  NaN   \n",
       "4               NaN             NaN            NaN                  NaN   \n",
       "5               NaN             NaN            NaN                  NaN   \n",
       "6               NaN             NaN            NaN                  NaN   \n",
       "7               NaN             NaN            NaN                  NaN   \n",
       "8               NaN             NaN            NaN                  NaN   \n",
       "9               NaN             NaN            NaN                  NaN   \n",
       "\n",
       "   WEATHER_DELAY  \n",
       "0            NaN  \n",
       "1            NaN  \n",
       "2            NaN  \n",
       "3            NaN  \n",
       "4            NaN  \n",
       "5            NaN  \n",
       "6            NaN  \n",
       "7            NaN  \n",
       "8            NaN  \n",
       "9            NaN  \n",
       "\n",
       "[10 rows x 31 columns]"
      ]
     },
     "execution_count": 2,
     "metadata": {},
     "output_type": "execute_result"
    }
   ],
   "source": [
    "# 469000 rows are very close approximate for one month data\n",
    "data = pd.read_csv(\"flights.csv\", nrows=469000 ,low_memory=False)\n",
    "n_rows, n_cols =  data.shape\n",
    "print \"ROWS: \", n_rows, \" COLS: \", n_cols\n",
    "data.head(10)"
   ]
  },
  {
   "cell_type": "code",
   "execution_count": 3,
   "metadata": {
    "scrolled": true
   },
   "outputs": [
    {
     "data": {
      "text/plain": [
       "YEAR                     int64\n",
       "MONTH                    int64\n",
       "DAY                      int64\n",
       "DAY_OF_WEEK              int64\n",
       "AIRLINE                 object\n",
       "FLIGHT_NUMBER            int64\n",
       "TAIL_NUMBER             object\n",
       "ORIGIN_AIRPORT          object\n",
       "DESTINATION_AIRPORT     object\n",
       "SCHEDULED_DEPARTURE      int64\n",
       "DEPARTURE_TIME         float64\n",
       "DEPARTURE_DELAY        float64\n",
       "TAXI_OUT               float64\n",
       "WHEELS_OFF             float64\n",
       "SCHEDULED_TIME           int64\n",
       "ELAPSED_TIME           float64\n",
       "AIR_TIME               float64\n",
       "DISTANCE                 int64\n",
       "WHEELS_ON              float64\n",
       "TAXI_IN                float64\n",
       "SCHEDULED_ARRIVAL        int64\n",
       "ARRIVAL_TIME           float64\n",
       "ARRIVAL_DELAY          float64\n",
       "DIVERTED                 int64\n",
       "CANCELLED                int64\n",
       "CANCELLATION_REASON     object\n",
       "AIR_SYSTEM_DELAY       float64\n",
       "SECURITY_DELAY         float64\n",
       "AIRLINE_DELAY          float64\n",
       "LATE_AIRCRAFT_DELAY    float64\n",
       "WEATHER_DELAY          float64\n",
       "dtype: object"
      ]
     },
     "execution_count": 3,
     "metadata": {},
     "output_type": "execute_result"
    }
   ],
   "source": [
    "data.dtypes"
   ]
  },
  {
   "cell_type": "markdown",
   "metadata": {},
   "source": [
    "### Let's take a look at delays, cancellation_reasons and diversion counts"
   ]
  },
  {
   "cell_type": "code",
   "execution_count": 4,
   "metadata": {},
   "outputs": [
    {
     "name": "stdout",
     "output_type": "stream",
     "text": [
      "DIFFENT TPYE OF DELAYS\n",
      "float64   DEPARTURE_DELAY , Instances 457355\n",
      "float64   ARRIVAL_DELAY , Instances 456066\n",
      "float64   AIR_SYSTEM_DELAY , Instances 95828\n",
      "float64   SECURITY_DELAY , Instances 95828\n",
      "float64   AIRLINE_DELAY , Instances 95828\n",
      "float64   LATE_AIRCRAFT_DELAY , Instances 95828\n",
      "float64   WEATHER_DELAY , Instances 95828\n"
     ]
    }
   ],
   "source": [
    "print \"DIFFENT TPYE OF DELAYS\" \n",
    "for dt,name in zip( data.dtypes , data.columns):\n",
    "    if \"DELAY\" in name:\n",
    "        print dt , \" \",name ,  \", Instances\" , data[name].count() # count returns number of non-null values"
   ]
  },
  {
   "cell_type": "code",
   "execution_count": 5,
   "metadata": {},
   "outputs": [
    {
     "name": "stdout",
     "output_type": "stream",
     "text": [
      "DIFFENT TPYE OF CANCELLATION REASONS\n",
      "A 2869\n",
      "B 7011\n",
      "C 2087\n",
      "D 1\n"
     ]
    }
   ],
   "source": [
    "print \"DIFFENT TPYE OF CANCELLATION REASONS\" #Reason for Cancellation of flight: A - Airline/Carrier; B - Weather; C - National Air System; D - Security\n",
    "for cancellation_reason in data.CANCELLATION_REASON[data.CANCELLATION_REASON.notnull()].unique():\n",
    "    if cancellation_reason:\n",
    "        print cancellation_reason , data[data.CANCELLATION_REASON == cancellation_reason].CANCELLATION_REASON.count()"
   ]
  },
  {
   "cell_type": "code",
   "execution_count": 6,
   "metadata": {},
   "outputs": [
    {
     "name": "stdout",
     "output_type": "stream",
     "text": [
      "DIVERTED FLIGHTS 966\n"
     ]
    }
   ],
   "source": [
    "print \"DIVERTED FLIGHTS\", data.DIVERTED.sum()\n"
   ]
  },
  {
   "cell_type": "markdown",
   "metadata": {},
   "source": [
    "# Insights Section\n",
    "In this section, i will study the relationship of airlines & airports with 3-Bad things( diversion, cancellation and delays ) <br/>\n",
    "It will provide helpful information for consumers and allow us to explore data patterns."
   ]
  },
  {
   "cell_type": "code",
   "execution_count": 7,
   "metadata": {},
   "outputs": [
    {
     "name": "stdout",
     "output_type": "stream",
     "text": [
      "{'AA': 'American Airlines Inc.', 'OO': 'Skywest Airlines Inc.', 'DL': 'Delta Air Lines Inc.', 'NK': 'Spirit Air Lines', 'HA': 'Hawaiian Airlines Inc.', 'F9': 'Frontier Airlines Inc.', 'AS': 'Alaska Airlines Inc.', 'US': 'US Airways Inc.', 'B6': 'JetBlue Airways', 'MQ': 'American Eagle Airlines Inc.', 'WN': 'Southwest Airlines Co.', 'VX': 'Virgin America', 'EV': 'Atlantic Southeast Airlines', 'UA': 'United Air Lines Inc.'}\n"
     ]
    }
   ],
   "source": [
    "#LET'S IMPORT THE AIRLINES DATA\n",
    "airlines = pd.read_csv(\"airlines.csv\")\n",
    "airlines_list = airlines.IATA_CODE.unique()\n",
    "airlines_dict = dict()\n",
    "airlines.head(5)\n",
    "for item in airlines.iterrows():\n",
    "    airlines_dict[ item[1][0] ] =item[1][1]\n",
    "print airlines_dict"
   ]
  },
  {
   "cell_type": "markdown",
   "metadata": {},
   "source": [
    "## Relation between Airline and Cancellation_reason\n",
    "From this data, we can see that some airlines have high cancellation rate  meanwhile some have lower eventhough they have high traffic. <br>"
   ]
  },
  {
   "cell_type": "code",
   "execution_count": 8,
   "metadata": {},
   "outputs": [],
   "source": [
    "canc_table_rel = []\n",
    "for airline in airlines_list:\n",
    "    canc_inst = [airline]\n",
    "    count_of_airline = len(data[data.AIRLINE == airline  ])\n",
    "    for reason in [\"A\",\"B\",\"C\",\"D\"]:\n",
    "        canc_inst.append(   data[(data.AIRLINE == airline)  & (data.CANCELLATION_REASON == reason) ].CANCELLATION_REASON.count()   )\n",
    "    canc_inst.append(count_of_airline)\n",
    "    canc_table_rel.append( canc_inst )\n",
    "        "
   ]
  },
  {
   "cell_type": "code",
   "execution_count": 10,
   "metadata": {},
   "outputs": [
    {
     "name": "stdout",
     "output_type": "stream",
     "text": [
      "+--------------------------------+-----+------+-----+---+--------------------------+\n",
      "| Airlines - Cancellation_reason |  A  |  B   |  C  | D | Total Flights(null inc.) |\n",
      "+--------------------------------+-----+------+-----+---+--------------------------+\n",
      "|               UA               | 118 | 840  |  8  | 0 |          38331           |\n",
      "|               AA               | 291 | 595  |  11 | 0 |          43931           |\n",
      "|               US               | 185 | 701  |  73 | 0 |          33393           |\n",
      "|               F9               |  62 |  27  |  0  | 0 |           6796           |\n",
      "|               B6               |  92 | 929  |  80 | 1 |          21538           |\n",
      "|               OO               | 346 | 687  | 228 | 0 |          48021           |\n",
      "|               AS               |  29 |  34  |  0  | 0 |          13209           |\n",
      "|               NK               |  12 |  76  |  10 | 0 |           8689           |\n",
      "|               WN               | 672 | 1034 |  58 | 0 |          99942           |\n",
      "|               DL               |  31 | 639  |  8  | 0 |          64267           |\n",
      "|               EV               | 390 | 454  | 856 | 0 |          49875           |\n",
      "|               HA               |  26 |  0   |  0  | 0 |           6425           |\n",
      "|               MQ               | 613 | 995  | 677 | 0 |          29856           |\n",
      "|               VX               |  2  |  0   |  78 | 0 |           4727           |\n",
      "+--------------------------------+-----+------+-----+---+--------------------------+\n"
     ]
    }
   ],
   "source": [
    "#table = pd.crosstab(data.AIRLINE,data.CANCELLATION_REASON)\n",
    "#table_rel = []\n",
    "t = PrettyTable([\"Airlines - Cancellation_reason\", \"A\",\"B\",\"C\",\"D\",\"Total Flights(null inc.)\"])\n",
    "for item in canc_table_rel:\n",
    "    total_flights = data[ data.AIRLINE == item[0] ].AIRLINE.count()\n",
    "    t.add_row( [item[0], item[1],item[2],item[3],item[4],item[5]] )\n",
    "    #table_rel.append( ( item[0] , item[1][0] + item[1][1] + item[1][2] ,total_flights ) )\n",
    "print t\n"
   ]
  },
  {
   "cell_type": "markdown",
   "metadata": {},
   "source": [
    "*Lets go down the rabbit hole and find out which airlines are particularly bad for their cancellation rate. This info. can be helpful for consumers.*"
   ]
  },
  {
   "cell_type": "code",
   "execution_count": 13,
   "metadata": {},
   "outputs": [
    {
     "name": "stdout",
     "output_type": "stream",
     "text": [
      "RATING OF AIRLINE BY CANCELLATION( best to worse )\n",
      "+------------------------------+---------------+---------------+\n",
      "|           Airline            | Cancellations | Total Flights |\n",
      "+------------------------------+---------------+---------------+\n",
      "|    Hawaiian Airlines Inc.    |       26      |      6425     |\n",
      "|     Alaska Airlines Inc.     |       63      |     13209     |\n",
      "|     Delta Air Lines Inc.     |      678      |     64267     |\n",
      "|       Spirit Air Lines       |       98      |      8689     |\n",
      "|    Frontier Airlines Inc.    |       89      |      6796     |\n",
      "|        Virgin America        |       80      |      4727     |\n",
      "|    Southwest Airlines Co.    |      1764     |     99942     |\n",
      "|    American Airlines Inc.    |      897      |     43931     |\n",
      "|    United Air Lines Inc.     |      966      |     38331     |\n",
      "|    Skywest Airlines Inc.     |      1261     |     48021     |\n",
      "|       US Airways Inc.        |      959      |     33393     |\n",
      "| Atlantic Southeast Airlines  |      1700     |     49875     |\n",
      "|       JetBlue Airways        |      1102     |     21538     |\n",
      "| American Eagle Airlines Inc. |      2285     |     29856     |\n",
      "+------------------------------+---------------+---------------+\n"
     ]
    }
   ],
   "source": [
    "sorted_by_cancellation = sorted(canc_table_rel, key=lambda tup: float(tup[1]+tup[2]+tup[3]+tup[4])/tup[5] , reverse=False)\n",
    "print \"RATING OF AIRLINE BY CANCELLATION( best to worse )\"\n",
    "t = PrettyTable([\"Airline\", \"Cancellations\",\"Total Flights\"])\n",
    "for item in sorted_by_cancellation:\n",
    "    t.add_row( [airlines_dict[item[0]], item[1]+item[2]+item[3]+item[4],item[5]] )\n",
    "print t"
   ]
  },
  {
   "cell_type": "markdown",
   "metadata": {
    "collapsed": true
   },
   "source": [
    "### Relation between Airlines and Delays\n",
    "In this section, we'll study which airlines are heavily effected by which type of delays."
   ]
  },
  {
   "cell_type": "code",
   "execution_count": 14,
   "metadata": {},
   "outputs": [
    {
     "name": "stdout",
     "output_type": "stream",
     "text": [
      "DIFFENT TPYE OF DELAYS\n",
      "+----------+---------------------+-----------+-------------+--------------------------+\n",
      "| Datatype |      Delay Type     | Instances | Total Delay | Average Delay Per Flight |\n",
      "+----------+---------------------+-----------+-------------+--------------------------+\n",
      "| float64  |   DEPARTURE_DELAY   |   457355  |  4470337.0  |      9.53163539446       |\n",
      "| float64  |    ARRIVAL_DELAY    |   456066  |  2659993.0  |      5.67162686567       |\n",
      "| float64  |   AIR_SYSTEM_DELAY  |   95828   |  1276990.0  |      2.72279317697       |\n",
      "| float64  |    SECURITY_DELAY   |   95828   |    6663.0   |     0.0142068230277      |\n",
      "| float64  |    AIRLINE_DELAY    |   95828   |  1706239.0  |      3.63803624733       |\n",
      "| float64  | LATE_AIRCRAFT_DELAY |   95828   |  2182230.0  |       4.6529424307       |\n",
      "| float64  |    WEATHER_DELAY    |   95828   |   263015.0  |      0.560799573561      |\n",
      "+----------+---------------------+-----------+-------------+--------------------------+\n"
     ]
    }
   ],
   "source": [
    "print \"DIFFENT TPYE OF DELAYS\" \n",
    "t = PrettyTable([\"Datatype\", \"Delay Type\",\"Instances\", \"Total Delay\", \"Average Delay Per Flight\"])\n",
    "delay_types = []\n",
    "for dt,name in zip( data.dtypes , data.columns):\n",
    "    if \"DELAY\" in name:\n",
    "        delay_count = data[name].count()\n",
    "        delay_sum = data[name].sum()\n",
    "        \n",
    "        t.add_row( [dt, name , delay_count ,delay_sum , float( delay_sum )/n_rows] )\n",
    "        delay_types.append( name )\n",
    "print t"
   ]
  },
  {
   "cell_type": "markdown",
   "metadata": {
    "collapsed": true
   },
   "source": [
    "*Let's see how different airlines are associated with different type of delays*"
   ]
  },
  {
   "cell_type": "code",
   "execution_count": 15,
   "metadata": {},
   "outputs": [
    {
     "name": "stdout",
     "output_type": "stream",
     "text": [
      "TABLE OF AIRLINE AND IT'S AVERAGE FLIGHT DELAYS\n",
      "+------------------------------+-----------+---------+------------+----------+---------+---------------+---------+\n",
      "|           Airline            | DEPARTURE | ARRIVAL | AIR_SYSTEM | SECURITY | AIRLINE | LATE_AIRCRAFT | WEATHER |\n",
      "+------------------------------+-----------+---------+------------+----------+---------+---------------+---------+\n",
      "|    United Air Lines Inc.     |   13.682  |  6.208  |   2.974    |  0.001   |  4.526  |     4.364     |  0.863  |\n",
      "|    American Airlines Inc.    |   10.407  |  6.838  |   2.286    |  0.014   |  4.634  |     5.139     |  0.565  |\n",
      "|       US Airways Inc.        |   5.058   |  3.023  |   2.909    |   0.03   |  3.013  |     2.424     |   0.23  |\n",
      "|    Frontier Airlines Inc.    |   17.862  |  18.186 |   7.103    |   0.0    |  4.894  |     9.803     |   0.19  |\n",
      "|       JetBlue Airways        |   9.542   |  6.978  |   3.744    |  0.052   |  3.536  |     5.022     |  0.436  |\n",
      "|    Skywest Airlines Inc.     |   11.887  |  10.588 |    2.84    |  0.014   |  4.488  |     7.264     |  0.639  |\n",
      "|     Alaska Airlines Inc.     |   3.141   |  -0.324 |   1.763    |  0.008   |  2.179  |     3.029     |  0.555  |\n",
      "|       Spirit Air Lines       |   13.052  |  11.312 |   10.798   |  0.044   |  2.324  |     2.816     |   0.07  |\n",
      "|    Southwest Airlines Co.    |   9.354   |  3.329  |   1.308    |  0.008   |  2.778  |      4.72     |  0.281  |\n",
      "|     Delta Air Lines Inc.     |   5.856   |  -1.999 |    1.86    |  0.009   |  2.758  |     1.874     |  0.644  |\n",
      "| Atlantic Southeast Airlines  |   9.431   |  8.227  |   3.293    |   0.0    |  4.517  |     5.093     |  0.385  |\n",
      "|    Hawaiian Airlines Inc.    |   1.316   |  3.512  |   0.266    |  0.025   |  2.656  |     2.362     |   0.22  |\n",
      "| American Eagle Airlines Inc. |   14.904  |  16.767 |   5.088    |  0.033   |  4.939  |     8.263     |  1.814  |\n",
      "|        Virgin America        |   6.803   |  1.404  |   3.153    |  0.032   |  2.116  |     2.568     |  0.836  |\n",
      "+------------------------------+-----------+---------+------------+----------+---------+---------------+---------+\n"
     ]
    }
   ],
   "source": [
    "# foreach airliness\n",
    "    # foreach delaytype\n",
    "        #get counts of that flight\n",
    "        #get the corresponding counts\n",
    "print \"TABLE OF AIRLINE AND IT'S AVERAGE FLIGHT DELAYS\"\n",
    "dely_table_rel = []\n",
    "for airline in airlines.IATA_CODE:\n",
    "    dely_inst = [airline]\n",
    "    count_of_airline = len(data[data.AIRLINE == airline  ])\n",
    "    \n",
    "    for delay in delay_types:\n",
    "        #print airline, \" \", delay ,  data[data.AIRLINE == airline  ][delay].sum()\n",
    "        dely_inst.append(  round( data[data.AIRLINE == airline  ][delay].sum() /count_of_airline,3  ))\n",
    "    dely_inst.append(count_of_airline)\n",
    "    dely_table_rel.append( dely_inst )\n",
    "    \n",
    "# printing table\n",
    "t = PrettyTable([\"Airline\", \"DEPARTURE\",\"ARRIVAL\", \"AIR_SYSTEM\", \"SECURITY\",\"AIRLINE\",\"LATE_AIRCRAFT\",\"WEATHER\"])\n",
    "for item in dely_table_rel:\n",
    "        t.add_row( [airlines_dict[item[0]], item[1],item[2],item[3] ,item[4] ,item[5],item[6],item[7]] )\n",
    "print t"
   ]
  },
  {
   "cell_type": "code",
   "execution_count": 16,
   "metadata": {},
   "outputs": [
    {
     "name": "stdout",
     "output_type": "stream",
     "text": [
      "RATING OF BEST AIRLINE BY DELAYS( best to worse )\n",
      "+------------------------------+------------------------------------+---------------+\n",
      "|           Airline            | Average of All Delays( Per Flight) | Total Flights |\n",
      "+------------------------------+------------------------------------+---------------+\n",
      "|     Alaska Airlines Inc.     |               10.351               |     13209     |\n",
      "|    Hawaiian Airlines Inc.    |               10.357               |      6425     |\n",
      "|     Delta Air Lines Inc.     |               11.002               |     64267     |\n",
      "|       US Airways Inc.        |               16.687               |     33393     |\n",
      "|        Virgin America        |               16.912               |      4727     |\n",
      "|    Southwest Airlines Co.    |               21.778               |     99942     |\n",
      "|       JetBlue Airways        |               29.31                |     21538     |\n",
      "|    American Airlines Inc.    |               29.883               |     43931     |\n",
      "| Atlantic Southeast Airlines  |               30.946               |     49875     |\n",
      "|    United Air Lines Inc.     |               32.618               |     38331     |\n",
      "|    Skywest Airlines Inc.     |               37.72                |     48021     |\n",
      "|       Spirit Air Lines       |               40.416               |      8689     |\n",
      "| American Eagle Airlines Inc. |               51.808               |     29856     |\n",
      "|    Frontier Airlines Inc.    |               58.038               |      6796     |\n",
      "+------------------------------+------------------------------------+---------------+\n"
     ]
    }
   ],
   "source": [
    "sorted_by_delays = sorted(dely_table_rel, key=lambda tup: float(tup[1]+tup[2]+tup[3]+tup[4]+tup[5]+tup[6]+tup[7]) )\n",
    "print \"RATING OF BEST AIRLINE BY DELAYS( best to worse )\"\n",
    "t = PrettyTable([\"Airline\", \"Average of All Delays( Per Flight)\",\"Total Flights\"])\n",
    "for item in sorted_by_delays:\n",
    "    t.add_row( [airlines_dict[item[0]],  item[1]+item[2]+item[3]+item[4]+item[5]+item[6]+item[7],item[8] ] )\n",
    "print t"
   ]
  },
  {
   "cell_type": "markdown",
   "metadata": {},
   "source": [
    "### Airlines and flight diversion\n",
    "Even though flight diversions are normally caused by circumstances like security and weather etc. But lets see if some airlines have particulary higher rate of diversion."
   ]
  },
  {
   "cell_type": "code",
   "execution_count": 17,
   "metadata": {},
   "outputs": [
    {
     "name": "stdout",
     "output_type": "stream",
     "text": [
      "Total diverted flights:  966\n"
     ]
    }
   ],
   "source": [
    "print \"Total diverted flights: \",len(data[data.DIVERTED == 1 ])\n"
   ]
  },
  {
   "cell_type": "code",
   "execution_count": 18,
   "metadata": {
    "collapsed": true
   },
   "outputs": [],
   "source": [
    "diversion_table_rel = []\n",
    "for airline in airlines_list:\n",
    "    div_inst = [airline]\n",
    "    count_of_airline = len(data[data.AIRLINE == airline  ])\n",
    "\n",
    "    div_inst.append(   len(data[(data.AIRLINE == airline)  & (data.DIVERTED == 1) ]   ))\n",
    "\n",
    "    div_inst.append(count_of_airline)\n",
    "    diversion_table_rel.append( div_inst )"
   ]
  },
  {
   "cell_type": "code",
   "execution_count": 19,
   "metadata": {},
   "outputs": [
    {
     "name": "stdout",
     "output_type": "stream",
     "text": [
      "RATING OF BEST AIRLINE BY DIVERSIONS( best to worse )\n",
      "+------------------------------+------------+---------------+\n",
      "|           Airline            | Diversions | Total Flights |\n",
      "+------------------------------+------------+---------------+\n",
      "|    Frontier Airlines Inc.    |     5      |      6796     |\n",
      "|        Virgin America        |     4      |      4727     |\n",
      "|    Hawaiian Airlines Inc.    |     6      |      6425     |\n",
      "|     Delta Air Lines Inc.     |     67     |     64267     |\n",
      "|       US Airways Inc.        |     45     |     33393     |\n",
      "| American Eagle Airlines Inc. |     44     |     29856     |\n",
      "|       Spirit Air Lines       |     13     |      8689     |\n",
      "|    United Air Lines Inc.     |     65     |     38331     |\n",
      "|       JetBlue Airways        |     39     |     21538     |\n",
      "|    American Airlines Inc.    |     85     |     43931     |\n",
      "|    Southwest Airlines Co.    |    215     |     99942     |\n",
      "| Atlantic Southeast Airlines  |    139     |     49875     |\n",
      "|     Alaska Airlines Inc.     |     42     |     13209     |\n",
      "|    Skywest Airlines Inc.     |    197     |     48021     |\n",
      "+------------------------------+------------+---------------+\n"
     ]
    }
   ],
   "source": [
    "sorted_by_diversion = sorted(diversion_table_rel, key=lambda tup: float(tup[1]) /tup[2], reverse=False)\n",
    "print \"RATING OF BEST AIRLINE BY DIVERSIONS( best to worse )\"\n",
    "t = PrettyTable([\"Airline\", \"Diversions\",\"Total Flights\"])\n",
    "for item in sorted_by_diversion:\n",
    "    t.add_row( [airlines_dict[item[0]],  item[1],item[2] ] )\n",
    "print t"
   ]
  },
  {
   "cell_type": "markdown",
   "metadata": {},
   "source": [
    "### Overall Relative Ranking of an airline\n",
    "Okay, so now we want to combine all the information above and create a ranking function.<br>\n",
    "So we are dividing airlines into three sections( Best, Good, Bad ) for each metric. <br>\n",
    "Best results airlines will be given 3 scores, good will be given 2 and bad will be given 1.\n"
   ]
  },
  {
   "cell_type": "code",
   "execution_count": 20,
   "metadata": {
    "collapsed": true
   },
   "outputs": [],
   "source": [
    "first_block = np.percentile( range(0,14),35)\n",
    "second_block = np.percentile( range(0,14),65)\n",
    "third_block = np.percentile( range(0,14),100)"
   ]
  },
  {
   "cell_type": "code",
   "execution_count": 21,
   "metadata": {
    "collapsed": true
   },
   "outputs": [],
   "source": [
    "scores_table = []\n",
    "for i,airline in enumerate( airlines_list):\n",
    "    # Scores for diversion\n",
    "    # 3-best, 2-good, 1-bad\n",
    "    airline_score = [airline]\n",
    "    count_of_flights = 0\n",
    "    for j,item in enumerate( sorted_by_diversion):\n",
    "        if item[0] == airline:\n",
    "            if j >= 0.0 and j < first_block:\n",
    "                airline_score.append(3)\n",
    "            elif j >= first_block and j < second_block:\n",
    "                airline_score.append(2)\n",
    "            else:\n",
    "                airline_score.append(1)\n",
    "            count_of_flights = item[2]\n",
    "\n",
    "        \n",
    "    # Scores for cancellation           \n",
    "    for j,item in enumerate( sorted_by_cancellation):\n",
    "        if item[0] == airline:\n",
    "            if j >= 0.0 and j < first_block:\n",
    "                airline_score.append(3)\n",
    "            elif j >= first_block and j < second_block:\n",
    "                airline_score.append(2)\n",
    "            else:\n",
    "                airline_score.append(1)\n",
    "        \n",
    "    # Scores for delay\n",
    "    for j,item in enumerate( sorted_by_delays):\n",
    "        if item[0] == airline:\n",
    "            if j >= 0.0 and j < first_block:\n",
    "                airline_score.append(3)\n",
    "            elif j >= first_block and j < second_block:\n",
    "                airline_score.append(2)\n",
    "            else:\n",
    "                airline_score.append(1)\n",
    "    airline_score.append(count_of_flights)\n",
    "    scores_table.append(airline_score)\n",
    "\n"
   ]
  },
  {
   "cell_type": "code",
   "execution_count": 22,
   "metadata": {},
   "outputs": [
    {
     "name": "stdout",
     "output_type": "stream",
     "text": [
      "OVERALL RANKING OF AIRLINE( best to worse )\n",
      "+------------------------------+-----------------+--------------------+-------------+-------------+---------------+\n",
      "|           Airline            | Diversion Score | Cancellation Score | Delay Score | Total Score | Total Flights |\n",
      "+------------------------------+-----------------+--------------------+-------------+-------------+---------------+\n",
      "|     Delta Air Lines Inc.     |        3        |         3          |      3      |      9      |     64267     |\n",
      "|    Hawaiian Airlines Inc.    |        3        |         3          |      3      |      9      |      6425     |\n",
      "|        Virgin America        |        3        |         2          |      3      |      8      |      4727     |\n",
      "|       US Airways Inc.        |        3        |         1          |      3      |      7      |     33393     |\n",
      "|    Frontier Airlines Inc.    |        3        |         3          |      1      |      7      |      6796     |\n",
      "|     Alaska Airlines Inc.     |        1        |         3          |      3      |      7      |     13209     |\n",
      "|       Spirit Air Lines       |        2        |         3          |      1      |      6      |      8689     |\n",
      "|    United Air Lines Inc.     |        2        |         2          |      1      |      5      |     38331     |\n",
      "|    American Airlines Inc.    |        1        |         2          |      2      |      5      |     43931     |\n",
      "|       JetBlue Airways        |        2        |         1          |      2      |      5      |     21538     |\n",
      "|    Southwest Airlines Co.    |        1        |         2          |      2      |      5      |     99942     |\n",
      "| Atlantic Southeast Airlines  |        1        |         1          |      2      |      4      |     49875     |\n",
      "| American Eagle Airlines Inc. |        2        |         1          |      1      |      4      |     29856     |\n",
      "|    Skywest Airlines Inc.     |        1        |         1          |      1      |      3      |     48021     |\n",
      "+------------------------------+-----------------+--------------------+-------------+-------------+---------------+\n"
     ]
    }
   ],
   "source": [
    "# sorting by rating\n",
    "sorted_score_table = sorted(scores_table, key=lambda tup: tup[1]+tup[2]+tup[3], reverse=True)\n",
    "print \"OVERALL RANKING OF AIRLINE( best to worse )\"\n",
    "t = PrettyTable([\"Airline\", \"Diversion Score\",\"Cancellation Score\",\"Delay Score\", \"Total Score\",\"Total Flights\"])\n",
    "for item in sorted_score_table:\n",
    "    t.add_row( [airlines_dict[item[0]],  item[1],item[2],item[3], item[1]+item[2]+item[3],item[4]] )\n",
    "print t"
   ]
  },
  {
   "cell_type": "markdown",
   "metadata": {
    "collapsed": true
   },
   "source": [
    "** Conclusion: We can see that some airlines are clearly dominating other lines when it comes to quality service in terms of flight delays, diversion and cancellations.<br>\n",
    "Also some airlines are really good in one aspect but are struggling in other aspects<br>\n",
    "Number of flights handled by airline is also being a hurdle in service**"
   ]
  }
 ],
 "metadata": {
  "kernelspec": {
   "display_name": "Python 2",
   "language": "python",
   "name": "python2"
  },
  "language_info": {
   "codemirror_mode": {
    "name": "ipython",
    "version": 2
   },
   "file_extension": ".py",
   "mimetype": "text/x-python",
   "name": "python",
   "nbconvert_exporter": "python",
   "pygments_lexer": "ipython2",
   "version": "2.7.13"
  }
 },
 "nbformat": 4,
 "nbformat_minor": 2
}
