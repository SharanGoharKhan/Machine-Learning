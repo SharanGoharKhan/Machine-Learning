{
 "cells": [
  {
   "cell_type": "code",
   "execution_count": 1,
   "metadata": {
    "collapsed": true
   },
   "outputs": [],
   "source": [
    "import math\n",
    "\n",
    "import pandas as pd\n",
    "import numpy as np\n",
    "\n",
    "from sklearn import preprocessing\n",
    "from sklearn.metrics import accuracy_score\n",
    "from sklearn.metrics import confusion_matrix\n",
    "from sklearn.model_selection import train_test_split\n",
    "\n",
    "from sklearn import svm\n",
    "from sklearn import tree\n",
    "from sklearn import ensemble\n",
    "from sklearn import neighbors\n",
    "from sklearn import naive_bayes \n",
    "from sklearn import linear_model\n",
    "from sklearn import neural_network"
   ]
  },
  {
   "cell_type": "markdown",
   "metadata": {},
   "source": [
    "# Reading Data"
   ]
  },
  {
   "cell_type": "code",
   "execution_count": 2,
   "metadata": {
    "collapsed": true
   },
   "outputs": [],
   "source": [
    "col_names = [\"fixed acidity\",\"volatile acidity\",\"citric acid\",\"residual sugar\",\"chlorides\",\"free sulfur dioxide\",\"total sulfur dioxide\",\"density\",\"pH\",\"sulphates\",\"alcohol\",\"quality\"]\n",
    "data1 = pd.read_csv('winequality-red.csv', names=col_names,delimiter=\";\")\n",
    "data2 = pd.read_csv('winequality-white.csv', names=col_names,delimiter=\";\")"
   ]
  },
  {
   "cell_type": "code",
   "execution_count": 4,
   "metadata": {},
   "outputs": [
    {
     "name": "stdout",
     "output_type": "stream",
     "text": [
      "Red wine data shape:  (1599, 12)\n",
      "White wine data shape:  (4898, 12)\n"
     ]
    }
   ],
   "source": [
    "np_data1 =data1.as_matrix()\n",
    "np_data2 =data2.as_matrix()\n",
    "print(\"Red wine data shape: \", np_data1.shape) \n",
    "print(\"White wine data shape: \", np_data2.shape)"
   ]
  },
  {
   "cell_type": "markdown",
   "metadata": {},
   "source": [
    "# Feature Scaling"
   ]
  },
  {
   "cell_type": "code",
   "execution_count": 5,
   "metadata": {
    "collapsed": true
   },
   "outputs": [],
   "source": [
    "normalized_np_data1 = preprocessing.scale(np_data1[:,:10])\n",
    "normalized_np_data2 = preprocessing.scale(np_data2[:,:10])"
   ]
  },
  {
   "cell_type": "markdown",
   "metadata": {},
   "source": [
    "# Test Train splitting"
   ]
  },
  {
   "cell_type": "code",
   "execution_count": 7,
   "metadata": {},
   "outputs": [
    {
     "name": "stdout",
     "output_type": "stream",
     "text": [
      "(1279, 10)\n",
      "(1279,)\n"
     ]
    }
   ],
   "source": [
    "x_train1, x_test1, y_train1, y_test1 = train_test_split( normalized_np_data1 , np_data1[:,-1] , test_size=0.20)\n",
    "x_train2, x_test2, y_train2, y_test2 = train_test_split( normalized_np_data2 , np_data2[:,-1] , test_size=0.20)\n",
    "print(x_train1.shape)\n",
    "print(y_train1.shape)"
   ]
  },
  {
   "cell_type": "markdown",
   "metadata": {},
   "source": [
    "# 1) Naive Bayes"
   ]
  },
  {
   "cell_type": "code",
   "execution_count": 8,
   "metadata": {
    "collapsed": true
   },
   "outputs": [],
   "source": [
    "def fit_predict_naivebayes( x , y, test ):\n",
    "    clf = naive_bayes.GaussianNB()\n",
    "    clf = clf.fit(x, y)\n",
    "    \n",
    "    pred = clf.predict( test )    \n",
    "    return pred"
   ]
  },
  {
   "cell_type": "code",
   "execution_count": 9,
   "metadata": {
    "collapsed": true
   },
   "outputs": [],
   "source": [
    "pred1 = fit_predict_naivebayes( x_train1 , y_train1, x_test1 )\n",
    "pred2 = fit_predict_naivebayes( x_train2 , y_train2, x_test2 )"
   ]
  },
  {
   "cell_type": "markdown",
   "metadata": {},
   "source": [
    "### Results"
   ]
  },
  {
   "cell_type": "code",
   "execution_count": 11,
   "metadata": {},
   "outputs": [
    {
     "name": "stdout",
     "output_type": "stream",
     "text": [
      "Red Wine Accuracy: 49.38%\n",
      "White Wine Accuracy: 40.31%\n"
     ]
    }
   ],
   "source": [
    "print(\"Red Wine Accuracy: {:.2%}\".format( accuracy_score(y_test1, pred1)))  \n",
    "print (\"White Wine Accuracy: {:.2%}\".format( accuracy_score(y_test2, pred2))) "
   ]
  },
  {
   "cell_type": "code",
   "execution_count": 462,
   "metadata": {},
   "outputs": [
    {
     "name": "stdout",
     "output_type": "stream",
     "text": [
      "Red Wine Confusion matrix\n"
     ]
    },
    {
     "data": {
      "text/plain": [
       "array([[ 0,  0,  1,  0,  0,  0],\n",
       "       [ 0,  0,  8,  6,  0,  0],\n",
       "       [ 1,  7, 57, 76,  4,  0],\n",
       "       [ 0,  6, 23, 80,  7,  0],\n",
       "       [ 0,  0,  1, 26, 16,  0],\n",
       "       [ 0,  0,  0,  1,  0,  0]])"
      ]
     },
     "execution_count": 462,
     "metadata": {},
     "output_type": "execute_result"
    }
   ],
   "source": [
    "print \"Red Wine Confusion matrix\"\n",
    "confusion_matrix(y_test1, pred1 )"
   ]
  },
  {
   "cell_type": "code",
   "execution_count": 463,
   "metadata": {},
   "outputs": [
    {
     "name": "stdout",
     "output_type": "stream",
     "text": [
      "White Wine Confusion matrix\n"
     ]
    },
    {
     "data": {
      "text/plain": [
       "array([[  4,   0,   0,   1,   0,   0],\n",
       "       [  0,   7,   7,  18,   3,   0],\n",
       "       [  2,  15, 103, 120,  38,   0],\n",
       "       [  2,   7,  92, 196, 162,   0],\n",
       "       [  0,   0,  13,  54, 103,   0],\n",
       "       [  0,   2,   3,   9,  18,   1]])"
      ]
     },
     "execution_count": 463,
     "metadata": {},
     "output_type": "execute_result"
    }
   ],
   "source": [
    "print \"White Wine Confusion matrix\"\n",
    "confusion_matrix(y_test2, pred2 )"
   ]
  },
  {
   "cell_type": "markdown",
   "metadata": {},
   "source": [
    "# 2) KNN"
   ]
  },
  {
   "cell_type": "code",
   "execution_count": 494,
   "metadata": {
    "collapsed": true
   },
   "outputs": [],
   "source": [
    "def fit_predict_knn( x , y, test ):\n",
    "    clf = neighbors.KNeighborsClassifier( n_neighbors=1 )\n",
    "    clf = clf.fit(x, y)\n",
    "    \n",
    "    pred = clf.predict( test )  \n",
    "    return pred"
   ]
  },
  {
   "cell_type": "code",
   "execution_count": 495,
   "metadata": {
    "collapsed": true
   },
   "outputs": [],
   "source": [
    "pred1 = fit_predict_knn( x_train1 , y_train1, x_test1 )\n",
    "pred2 = fit_predict_knn( x_train2 , y_train2, x_test2 )"
   ]
  },
  {
   "cell_type": "markdown",
   "metadata": {},
   "source": [
    "### Results"
   ]
  },
  {
   "cell_type": "code",
   "execution_count": 496,
   "metadata": {},
   "outputs": [
    {
     "name": "stdout",
     "output_type": "stream",
     "text": [
      "Red Wine Accuracy: 60.94%\n",
      "White Wine Accuracy: 60.41%\n"
     ]
    }
   ],
   "source": [
    "print \"Red Wine Accuracy: {:.2%}\".format( accuracy_score(y_test1, pred1))  \n",
    "print \"White Wine Accuracy: {:.2%}\".format( accuracy_score(y_test2, pred2)) "
   ]
  },
  {
   "cell_type": "code",
   "execution_count": 497,
   "metadata": {},
   "outputs": [
    {
     "name": "stdout",
     "output_type": "stream",
     "text": [
      "Red Wine Confusion matrix\n"
     ]
    },
    {
     "data": {
      "text/plain": [
       "array([[  0,   0,   0,   1,   0,   0],\n",
       "       [  0,   2,   7,   5,   0,   0],\n",
       "       [  2,   6, 104,  27,   4,   2],\n",
       "       [  1,   2,  34,  66,  13,   0],\n",
       "       [  0,   3,   3,  12,  23,   2],\n",
       "       [  0,   0,   0,   1,   0,   0]])"
      ]
     },
     "execution_count": 497,
     "metadata": {},
     "output_type": "execute_result"
    }
   ],
   "source": [
    "print \"Red Wine Confusion matrix\"\n",
    "confusion_matrix(y_test1, pred1 )"
   ]
  },
  {
   "cell_type": "code",
   "execution_count": 498,
   "metadata": {},
   "outputs": [
    {
     "name": "stdout",
     "output_type": "stream",
     "text": [
      "White Wine Confusion matrix\n"
     ]
    },
    {
     "data": {
      "text/plain": [
       "array([[  0,   1,   2,   2,   0,   0,   0],\n",
       "       [  0,   8,  14,   9,   3,   1,   0],\n",
       "       [  0,   7, 177,  76,  16,   2,   0],\n",
       "       [  0,   9,  93, 294,  55,   8,   0],\n",
       "       [  0,   0,  14,  49,  96,  10,   1],\n",
       "       [  0,   0,   2,   7,   7,  17,   0],\n",
       "       [  0,   0,   0,   0,   0,   0,   0]])"
      ]
     },
     "execution_count": 498,
     "metadata": {},
     "output_type": "execute_result"
    }
   ],
   "source": [
    "print \"White Wine Confusion matrix\"\n",
    "confusion_matrix(y_test2, pred2 )"
   ]
  },
  {
   "cell_type": "markdown",
   "metadata": {},
   "source": [
    "# 3) Decision Tree"
   ]
  },
  {
   "cell_type": "code",
   "execution_count": 499,
   "metadata": {
    "collapsed": true
   },
   "outputs": [],
   "source": [
    "def fit_predict_decisiontree( x , y, test ):\n",
    "    clf = tree.DecisionTreeClassifier()\n",
    "    clf = clf.fit(x, y)\n",
    "    \n",
    "    pred = clf.predict( test )    \n",
    "    return pred"
   ]
  },
  {
   "cell_type": "code",
   "execution_count": 500,
   "metadata": {
    "collapsed": true
   },
   "outputs": [],
   "source": [
    "pred1 = fit_predict_decisiontree( x_train1 , y_train1, x_test1 )\n",
    "pred2 = fit_predict_decisiontree( x_train2 , y_train2, x_test2 )"
   ]
  },
  {
   "cell_type": "markdown",
   "metadata": {},
   "source": [
    "### Results"
   ]
  },
  {
   "cell_type": "code",
   "execution_count": 501,
   "metadata": {},
   "outputs": [
    {
     "name": "stdout",
     "output_type": "stream",
     "text": [
      "Red Wine Accuracy: 61.56%\n",
      "White Wine Accuracy: 60.61%\n"
     ]
    }
   ],
   "source": [
    "print \"Red Wine Accuracy: {:.2%}\".format( accuracy_score(y_test1, pred1))  \n",
    "print \"White Wine Accuracy: {:.2%}\".format( accuracy_score(y_test2, pred2))  "
   ]
  },
  {
   "cell_type": "code",
   "execution_count": 502,
   "metadata": {},
   "outputs": [
    {
     "name": "stdout",
     "output_type": "stream",
     "text": [
      "Red Wine Confusion matrix\n"
     ]
    },
    {
     "data": {
      "text/plain": [
       "array([[  0,   0,   0,   1,   0,   0],\n",
       "       [  0,   0,  10,   3,   1,   0],\n",
       "       [  2,   3, 104,  30,   5,   1],\n",
       "       [  0,   1,  33,  71,  11,   0],\n",
       "       [  1,   0,   8,  10,  22,   2],\n",
       "       [  0,   0,   0,   1,   0,   0]])"
      ]
     },
     "execution_count": 502,
     "metadata": {},
     "output_type": "execute_result"
    }
   ],
   "source": [
    "print \"Red Wine Confusion matrix\"\n",
    "confusion_matrix(y_test1, pred1 )"
   ]
  },
  {
   "cell_type": "code",
   "execution_count": 503,
   "metadata": {},
   "outputs": [
    {
     "name": "stdout",
     "output_type": "stream",
     "text": [
      "White Wine Confusion matrix\n"
     ]
    },
    {
     "data": {
      "text/plain": [
       "array([[  0,   0,   2,   2,   1,   0],\n",
       "       [  0,   5,  18,   7,   4,   1],\n",
       "       [  1,  11, 171,  78,  16,   1],\n",
       "       [  1,   8,  88, 300,  52,  10],\n",
       "       [  0,   3,  12,  48, 100,   7],\n",
       "       [  0,   0,   3,  11,   1,  18]])"
      ]
     },
     "execution_count": 503,
     "metadata": {},
     "output_type": "execute_result"
    }
   ],
   "source": [
    "print \"White Wine Confusion matrix\"\n",
    "confusion_matrix(y_test2, pred2 )"
   ]
  },
  {
   "cell_type": "markdown",
   "metadata": {},
   "source": [
    "# 4) Random Forest"
   ]
  },
  {
   "cell_type": "code",
   "execution_count": 504,
   "metadata": {
    "collapsed": true
   },
   "outputs": [],
   "source": [
    "def fit_predict_randomforest( x , y, test ):\n",
    "    clf = ensemble.RandomForestClassifier( n_estimators=10 , max_features='auto',max_depth=20)\n",
    "    clf = clf.fit(x, y)\n",
    "    \n",
    "    pred = clf.predict( test ) \n",
    "    return pred"
   ]
  },
  {
   "cell_type": "code",
   "execution_count": 505,
   "metadata": {
    "collapsed": true
   },
   "outputs": [],
   "source": [
    "pred1 = fit_predict_randomforest( x_train1 , y_train1, x_test1 )\n",
    "pred2 = fit_predict_randomforest( x_train2 , y_train2, x_test2 )"
   ]
  },
  {
   "cell_type": "markdown",
   "metadata": {},
   "source": [
    "### Results"
   ]
  },
  {
   "cell_type": "code",
   "execution_count": 506,
   "metadata": {},
   "outputs": [
    {
     "name": "stdout",
     "output_type": "stream",
     "text": [
      "Red Wine Accuracy: 64.69%\n",
      "White Wine Accuracy: 64.49%\n"
     ]
    }
   ],
   "source": [
    "print \"Red Wine Accuracy: {:.2%}\".format( accuracy_score(y_test1, pred1))  \n",
    "print \"White Wine Accuracy: {:.2%}\".format( accuracy_score(y_test2, pred2))  "
   ]
  },
  {
   "cell_type": "code",
   "execution_count": 507,
   "metadata": {},
   "outputs": [
    {
     "name": "stdout",
     "output_type": "stream",
     "text": [
      "Red Wine Confusion matrix\n"
     ]
    },
    {
     "data": {
      "text/plain": [
       "array([[  0,   0,   0,   1,   0,   0],\n",
       "       [  0,   0,  11,   3,   0,   0],\n",
       "       [  0,   0, 115,  28,   2,   0],\n",
       "       [  0,   0,  39,  73,   4,   0],\n",
       "       [  0,   0,   6,  17,  19,   1],\n",
       "       [  0,   0,   0,   1,   0,   0]])"
      ]
     },
     "execution_count": 507,
     "metadata": {},
     "output_type": "execute_result"
    }
   ],
   "source": [
    "print \"Red Wine Confusion matrix\"\n",
    "confusion_matrix(y_test1, pred1 )"
   ]
  },
  {
   "cell_type": "code",
   "execution_count": 508,
   "metadata": {},
   "outputs": [
    {
     "name": "stdout",
     "output_type": "stream",
     "text": [
      "White Wine Confusion matrix\n"
     ]
    },
    {
     "data": {
      "text/plain": [
       "array([[  0,   0,   2,   3,   0,   0],\n",
       "       [  0,   7,  20,   7,   1,   0],\n",
       "       [  0,   4, 198,  72,   4,   0],\n",
       "       [  0,   3,  99, 326,  29,   2],\n",
       "       [  0,   0,  12,  65,  88,   5],\n",
       "       [  0,   0,   1,  15,   4,  13]])"
      ]
     },
     "execution_count": 508,
     "metadata": {},
     "output_type": "execute_result"
    }
   ],
   "source": [
    "print \"White Wine Confusion matrix\"\n",
    "confusion_matrix(y_test2, pred2 )"
   ]
  },
  {
   "cell_type": "markdown",
   "metadata": {},
   "source": [
    "# 5) Logistic Regression "
   ]
  },
  {
   "cell_type": "code",
   "execution_count": 520,
   "metadata": {
    "collapsed": true
   },
   "outputs": [],
   "source": [
    "def fit_predict_logisiticregression( x , y, test ):\n",
    "    clf = linear_model.LogisticRegression( )\n",
    "    clf = clf.fit(x, y)\n",
    "    \n",
    "    pred = clf.predict( test ) \n",
    "    return pred\n"
   ]
  },
  {
   "cell_type": "code",
   "execution_count": 521,
   "metadata": {
    "collapsed": true
   },
   "outputs": [],
   "source": [
    "pred1 = fit_predict_logisiticregression( x_train1 , y_train1, x_test1 )\n",
    "pred2 = fit_predict_logisiticregression( x_train2 , y_train2, x_test2 )"
   ]
  },
  {
   "cell_type": "markdown",
   "metadata": {},
   "source": [
    "### Results"
   ]
  },
  {
   "cell_type": "code",
   "execution_count": 522,
   "metadata": {},
   "outputs": [
    {
     "name": "stdout",
     "output_type": "stream",
     "text": [
      "Red Wine Accuracy: 55.00%\n",
      "White Wine Accuracy: 51.94%\n"
     ]
    }
   ],
   "source": [
    "print \"Red Wine Accuracy: {:.2%}\".format( accuracy_score(y_test1, pred1))  \n",
    "print \"White Wine Accuracy: {:.2%}\".format( accuracy_score(y_test2, pred2))  "
   ]
  },
  {
   "cell_type": "code",
   "execution_count": 523,
   "metadata": {},
   "outputs": [
    {
     "name": "stdout",
     "output_type": "stream",
     "text": [
      "Red Wine Confusion matrix\n"
     ]
    },
    {
     "data": {
      "text/plain": [
       "array([[  0,   0,   1,   0,   0,   0],\n",
       "       [  0,   0,  10,   4,   0,   0],\n",
       "       [  0,   0, 108,  37,   0,   0],\n",
       "       [  0,   0,  52,  64,   0,   0],\n",
       "       [  0,   0,   2,  37,   4,   0],\n",
       "       [  0,   0,   0,   0,   1,   0]])"
      ]
     },
     "execution_count": 523,
     "metadata": {},
     "output_type": "execute_result"
    }
   ],
   "source": [
    "print \"Red Wine Confusion matrix\"\n",
    "confusion_matrix(y_test1, pred1 )"
   ]
  },
  {
   "cell_type": "code",
   "execution_count": 524,
   "metadata": {},
   "outputs": [
    {
     "name": "stdout",
     "output_type": "stream",
     "text": [
      "White Wine Confusion matrix\n"
     ]
    },
    {
     "data": {
      "text/plain": [
       "array([[  0,   0,   2,   3,   0,   0],\n",
       "       [  0,   0,  17,  18,   0,   0],\n",
       "       [  0,   0, 135, 143,   0,   0],\n",
       "       [  0,   0,  98, 347,  14,   0],\n",
       "       [  0,   0,  15, 128,  27,   0],\n",
       "       [  0,   0,   1,  23,   9,   0]])"
      ]
     },
     "execution_count": 524,
     "metadata": {},
     "output_type": "execute_result"
    }
   ],
   "source": [
    "print \"White Wine Confusion matrix\"\n",
    "confusion_matrix(y_test2, pred2 )"
   ]
  },
  {
   "cell_type": "markdown",
   "metadata": {},
   "source": [
    "# 6) SVM"
   ]
  },
  {
   "cell_type": "code",
   "execution_count": 568,
   "metadata": {
    "collapsed": true
   },
   "outputs": [],
   "source": [
    "def fit_predict_svm( x , y, test ):\n",
    "    clf = svm.SVC( kernel='rbf')\n",
    "    clf = clf.fit(x, y)\n",
    "    \n",
    "    pred = clf.predict( test ) \n",
    "    return pred"
   ]
  },
  {
   "cell_type": "code",
   "execution_count": 569,
   "metadata": {
    "collapsed": true
   },
   "outputs": [],
   "source": [
    "pred1 = fit_predict_svm( x_train1 , y_train1, x_test1 )\n",
    "pred2 = fit_predict_svm( x_train2 , y_train2, x_test2 )"
   ]
  },
  {
   "cell_type": "markdown",
   "metadata": {},
   "source": [
    "### Results"
   ]
  },
  {
   "cell_type": "code",
   "execution_count": 570,
   "metadata": {},
   "outputs": [
    {
     "name": "stdout",
     "output_type": "stream",
     "text": [
      "Red Wine Accuracy: 58.13%\n",
      "White Wine Accuracy: 55.20%\n"
     ]
    }
   ],
   "source": [
    "print \"Red Wine Accuracy: {:.2%}\".format( accuracy_score(y_test1, pred1))  \n",
    "print \"White Wine Accuracy: {:.2%}\".format( accuracy_score(y_test2, pred2))  "
   ]
  },
  {
   "cell_type": "code",
   "execution_count": 571,
   "metadata": {},
   "outputs": [
    {
     "name": "stdout",
     "output_type": "stream",
     "text": [
      "Red Wine Confusion matrix\n"
     ]
    },
    {
     "data": {
      "text/plain": [
       "array([[ 0,  0,  0,  1,  0,  0],\n",
       "       [ 0,  0, 11,  3,  0,  0],\n",
       "       [ 0,  0, 96, 48,  1,  0],\n",
       "       [ 0,  0, 40, 75,  1,  0],\n",
       "       [ 0,  0,  3, 25, 15,  0],\n",
       "       [ 0,  0,  0,  1,  0,  0]])"
      ]
     },
     "execution_count": 571,
     "metadata": {},
     "output_type": "execute_result"
    }
   ],
   "source": [
    "print \"Red Wine Confusion matrix\"\n",
    "confusion_matrix(y_test1, pred1 )"
   ]
  },
  {
   "cell_type": "code",
   "execution_count": 572,
   "metadata": {},
   "outputs": [
    {
     "name": "stdout",
     "output_type": "stream",
     "text": [
      "White Wine Confusion matrix\n"
     ]
    },
    {
     "data": {
      "text/plain": [
       "array([[  0,   0,   2,   3,   0,   0],\n",
       "       [  0,   4,  19,  12,   0,   0],\n",
       "       [  0,   1, 162, 115,   0,   0],\n",
       "       [  0,   0, 102, 342,  15,   0],\n",
       "       [  0,   0,   7, 130,  33,   0],\n",
       "       [  0,   0,   1,  25,   7,   0]])"
      ]
     },
     "execution_count": 572,
     "metadata": {},
     "output_type": "execute_result"
    }
   ],
   "source": [
    "print \"White Wine Confusion matrix\"\n",
    "confusion_matrix(y_test2, pred2 )"
   ]
  },
  {
   "cell_type": "markdown",
   "metadata": {},
   "source": [
    "# 7) Neural Network"
   ]
  },
  {
   "cell_type": "code",
   "execution_count": 585,
   "metadata": {
    "collapsed": true
   },
   "outputs": [],
   "source": [
    "def fit_predict_nn( x , y, test ):\n",
    "    clf = neural_network.MLPClassifier( )\n",
    "    clf = clf.fit(x, y)\n",
    "    \n",
    "    pred = clf.predict( test ) \n",
    "    return pred"
   ]
  },
  {
   "cell_type": "code",
   "execution_count": 586,
   "metadata": {},
   "outputs": [
    {
     "name": "stderr",
     "output_type": "stream",
     "text": [
      "C:\\ProgramData\\Anaconda2\\lib\\site-packages\\sklearn\\neural_network\\multilayer_perceptron.py:563: ConvergenceWarning: Stochastic Optimizer: Maximum iterations reached and the optimization hasn't converged yet.\n",
      "  % (), ConvergenceWarning)\n"
     ]
    }
   ],
   "source": [
    "pred1 = fit_predict_nn( x_train1 , y_train1, x_test1 )\n",
    "pred2 = fit_predict_nn( x_train2 , y_train2, x_test2 )"
   ]
  },
  {
   "cell_type": "markdown",
   "metadata": {},
   "source": [
    "### Results"
   ]
  },
  {
   "cell_type": "code",
   "execution_count": 587,
   "metadata": {},
   "outputs": [
    {
     "name": "stdout",
     "output_type": "stream",
     "text": [
      "Red Wine Accuracy: 54.37%\n",
      "White Wine Accuracy: 57.76%\n"
     ]
    }
   ],
   "source": [
    "print \"Red Wine Accuracy: {:.2%}\".format( accuracy_score(y_test1, pred1))  \n",
    "print \"White Wine Accuracy: {:.2%}\".format( accuracy_score(y_test2, pred2))  "
   ]
  },
  {
   "cell_type": "code",
   "execution_count": 588,
   "metadata": {},
   "outputs": [
    {
     "name": "stdout",
     "output_type": "stream",
     "text": [
      "Red Wine Confusion matrix\n"
     ]
    },
    {
     "data": {
      "text/plain": [
       "array([[ 0,  0,  1,  0,  0,  0],\n",
       "       [ 0,  0, 10,  4,  0,  0],\n",
       "       [ 0,  2, 91, 48,  4,  0],\n",
       "       [ 0,  1, 41, 63, 11,  0],\n",
       "       [ 0,  0,  2, 21, 20,  0],\n",
       "       [ 0,  0,  0,  0,  1,  0]])"
      ]
     },
     "execution_count": 588,
     "metadata": {},
     "output_type": "execute_result"
    }
   ],
   "source": [
    "print \"Red Wine Confusion matrix\"\n",
    "confusion_matrix(y_test1, pred1 )"
   ]
  },
  {
   "cell_type": "code",
   "execution_count": 589,
   "metadata": {},
   "outputs": [
    {
     "name": "stdout",
     "output_type": "stream",
     "text": [
      "White Wine Confusion matrix\n"
     ]
    },
    {
     "data": {
      "text/plain": [
       "array([[  0,   1,   2,   2,   0,   0],\n",
       "       [  0,   6,  17,  12,   0,   0],\n",
       "       [  0,   5, 163, 107,   3,   0],\n",
       "       [  0,   1,  88, 330,  40,   0],\n",
       "       [  0,   0,   8,  95,  66,   1],\n",
       "       [  0,   0,   1,  18,  13,   1]])"
      ]
     },
     "execution_count": 589,
     "metadata": {},
     "output_type": "execute_result"
    }
   ],
   "source": [
    "print \"White Wine Confusion matrix\"\n",
    "confusion_matrix(y_test2, pred2 )"
   ]
  },
  {
   "cell_type": "code",
   "execution_count": null,
   "metadata": {
    "collapsed": true
   },
   "outputs": [],
   "source": []
  }
 ],
 "metadata": {
  "kernelspec": {
   "display_name": "Python 3",
   "language": "python",
   "name": "python3"
  },
  "language_info": {
   "codemirror_mode": {
    "name": "ipython",
    "version": 3
   },
   "file_extension": ".py",
   "mimetype": "text/x-python",
   "name": "python",
   "nbconvert_exporter": "python",
   "pygments_lexer": "ipython3",
   "version": "3.6.1"
  }
 },
 "nbformat": 4,
 "nbformat_minor": 2
}
