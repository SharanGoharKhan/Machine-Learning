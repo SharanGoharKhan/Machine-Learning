{
 "cells": [
  {
   "cell_type": "code",
   "execution_count": 17,
   "metadata": {
    "collapsed": true
   },
   "outputs": [],
   "source": [
    "import pandas as pd\n",
    "import numpy as np"
   ]
  },
  {
   "cell_type": "code",
   "execution_count": 18,
   "metadata": {
    "collapsed": true
   },
   "outputs": [],
   "source": [
    "def mean(x):\n",
    "    return float( sum(x) ) / len(x)\n",
    "\n",
    "def median(x):\n",
    "    n = len(x)\n",
    "    sorted_x = sorted(x)\n",
    "    midpoint = n / 2\n",
    "    print midpoint\n",
    "    if n % 2 == 1:\n",
    "        return sorted_x[midpoint]\n",
    "    else:\n",
    "        lo = midpoint - 1\n",
    "        hi = midpoint\n",
    "    return ( sorted_x[lo] + sorted_x[hi] )/2\n",
    "\n",
    "# most common value(s)\n",
    "def mode(x):\n",
    "    counts = Counter(x)\n",
    "    max_count = max(counts.values())\n",
    "    return [ x_i for x_i, count in counts.iteritems() if count == max_count ]\n",
    "    \n",
    "def quantile( x, p ):\n",
    "    p_index = int(p*len(x))\n",
    "    return sorted(x)[p_index]\n",
    "def data_range(x):\n",
    "    return max(x) - min(x)\n",
    "def de_mean(x):\n",
    "    x_mean = mean(x)\n",
    "    return [ x_i - x_mean for x_i in x ]\n",
    "def variance( x ):\n",
    "    n = len(x)\n",
    "    deviations = de_mean(x)\n",
    "    return sum_of_squares(deviations)/(n-1)\n",
    "def standard_deviation(x):\n",
    "    return math.sqrt(variance(x))\n"
   ]
  },
  {
   "cell_type": "code",
   "execution_count": 19,
   "metadata": {
    "collapsed": true
   },
   "outputs": [],
   "source": [
    "import math\n",
    "from collections import Counter\n",
    "\n",
    "def sum_of_squares(v):\n",
    "    \"\"\"computes the sum of squared elements in v\"\"\"\n",
    "    return sum(v_i ** 2 for v_i in v)\n",
    "\n",
    "def dot(v, w):\n",
    "    \"\"\"v_1 * w_1 + ... + v_n * w_n\"\"\"\n",
    "    return sum(v_i * w_i\n",
    "               for v_i, w_i in zip(v, w))"
   ]
  },
  {
   "cell_type": "code",
   "execution_count": 62,
   "metadata": {
    "collapsed": true
   },
   "outputs": [],
   "source": [
    "col_names = [\"age\",\"workclass\",\"fnlwgt\",\"education\",\"education_num\",\"marital_status\",\"occupation\",\"relationship\",\"race\",\"sex\",\"capital_gain\",\"capital_loss\",\"hours_per_weak\",\"native_country\",\"class_label\"]\n",
    "data = pd.read_csv( \"adult.data.txt\",names= col_names ,delimiter=',' )\n",
    "X=np.asarray(data[[\"age\",\"workclass\",\"fnlwgt\",\"education\",\"education_num\",\"marital_status\",\"occupation\",\"relationship\",\"race\",\"sex\",\"capital_gain\",\"capital_loss\",\"hours_per_weak\",\"native_country\"]])\n",
    "Y = np.asarray(data[['class_label']])"
   ]
  },
  {
   "cell_type": "code",
   "execution_count": 63,
   "metadata": {},
   "outputs": [
    {
     "name": "stdout",
     "output_type": "stream",
     "text": [
      "38.5816467553\n",
      "186.061400249\n",
      "13.6404325536\n"
     ]
    }
   ],
   "source": [
    "print mean(X[:,0])\n",
    "print variance( X[:,0] )\n",
    "print standard_deviation( X[:,0] )"
   ]
  },
  {
   "cell_type": "code",
   "execution_count": 64,
   "metadata": {},
   "outputs": [
    {
     "name": "stdout",
     "output_type": "stream",
     "text": [
      "Feature Type is Numerical  Feature index 0 Mean  38.5816467553 Range 73\n",
      "Mode [36L]  Variance 186.061400249  Standard Deviation  13.6404325536\n",
      "============================================================\n",
      "Feature is Categorical  Feature index 1\n",
      "Unique values  [' ?' ' Federal-gov' ' Local-gov' ' Never-worked' ' Private'\n",
      " ' Self-emp-inc' ' Self-emp-not-inc' ' State-gov' ' Without-pay']\n",
      "============================================================\n",
      "Feature Type is Numerical  Feature index 2 Mean  189778.366512 Range 1472420\n",
      "Mode [164190L, 203488L, 123011L]  Variance 11140797791.8  Standard Deviation  105549.977697\n",
      "============================================================\n",
      "Feature is Categorical  Feature index 3\n",
      "Unique values  [' 10th' ' 11th' ' 12th' ' 1st-4th' ' 5th-6th' ' 7th-8th' ' 9th'\n",
      " ' Assoc-acdm' ' Assoc-voc' ' Bachelors' ' Doctorate' ' HS-grad' ' Masters'\n",
      " ' Preschool' ' Prof-school' ' Some-college']\n",
      "============================================================\n",
      "Feature Type is Numerical  Feature index 4 Mean  10.0806793403 Range 15\n",
      "Mode [9L]  Variance 6.61888990703  Standard Deviation  2.57272033207\n",
      "============================================================\n",
      "Feature is Categorical  Feature index 5\n",
      "Unique values  [' Divorced' ' Married-AF-spouse' ' Married-civ-spouse'\n",
      " ' Married-spouse-absent' ' Never-married' ' Separated' ' Widowed']\n",
      "============================================================\n",
      "Feature is Categorical  Feature index 6\n",
      "Unique values  [' ?' ' Adm-clerical' ' Armed-Forces' ' Craft-repair' ' Exec-managerial'\n",
      " ' Farming-fishing' ' Handlers-cleaners' ' Machine-op-inspct'\n",
      " ' Other-service' ' Priv-house-serv' ' Prof-specialty' ' Protective-serv'\n",
      " ' Sales' ' Tech-support' ' Transport-moving']\n",
      "============================================================\n",
      "Feature is Categorical  Feature index 7\n",
      "Unique values  [' Husband' ' Not-in-family' ' Other-relative' ' Own-child' ' Unmarried'\n",
      " ' Wife']\n",
      "============================================================\n",
      "Feature is Categorical  Feature index 8\n",
      "Unique values  [' Amer-Indian-Eskimo' ' Asian-Pac-Islander' ' Black' ' Other' ' White']\n",
      "============================================================\n",
      "Feature is Categorical  Feature index 9\n",
      "Unique values  [' Female' ' Male']\n",
      "============================================================\n",
      "Feature Type is Numerical  Feature index 10 Mean  1077.64884371 Range 99999\n",
      "Mode [0L]  Variance 54542539.1784  Standard Deviation  7385.29208484\n",
      "============================================================\n",
      "Feature Type is Numerical  Feature index 11 Mean  87.303829735 Range 4356\n",
      "Mode [0L]  Variance 162376.937814  Standard Deviation  402.960218649\n",
      "============================================================\n",
      "Feature Type is Numerical  Feature index 12 Mean  40.4374558521 Range 98\n",
      "Mode [40L]  Variance 152.45899505  Standard Deviation  12.3474286817\n",
      "============================================================\n",
      "Feature is Categorical  Feature index 13\n",
      "Unique values  [' ?' ' Cambodia' ' Canada' ' China' ' Columbia' ' Cuba'\n",
      " ' Dominican-Republic' ' Ecuador' ' El-Salvador' ' England' ' France'\n",
      " ' Germany' ' Greece' ' Guatemala' ' Haiti' ' Holand-Netherlands'\n",
      " ' Honduras' ' Hong' ' Hungary' ' India' ' Iran' ' Ireland' ' Italy'\n",
      " ' Jamaica' ' Japan' ' Laos' ' Mexico' ' Nicaragua'\n",
      " ' Outlying-US(Guam-USVI-etc)' ' Peru' ' Philippines' ' Poland' ' Portugal'\n",
      " ' Puerto-Rico' ' Scotland' ' South' ' Taiwan' ' Thailand'\n",
      " ' Trinadad&Tobago' ' United-States' ' Vietnam' ' Yugoslavia']\n",
      "============================================================\n"
     ]
    }
   ],
   "source": [
    "for i in xrange( X.shape[1]):\n",
    "    if isinstance(X[0,i],long):\n",
    "        print \"Feature Type is Numerical \"  , \"Feature index\" ,i  ,\"Mean \",mean(X[:,i]), \"Range\" ,data_range( X[:,i]) \n",
    "        print \"Mode\" ,mode(X[:,i]) , \" Variance\", variance( X[:,i] ) , \" Standard Deviation \",standard_deviation(X[:,i] )\n",
    "        print \"============================================================\"\n",
    "    else:\n",
    "        print \"Feature is Categorical \" , \"Feature index\" ,i \n",
    "        print \"Unique values \", np.unique( X[:,i] )\n",
    "        print \"============================================================\""
   ]
  },
  {
   "cell_type": "code",
   "execution_count": 65,
   "metadata": {},
   "outputs": [
    {
     "name": "stdout",
     "output_type": "stream",
     "text": [
      "                age        fnlwgt  education_num  capital_gain  capital_loss  \\\n",
      "count  32561.000000  3.256100e+04   32561.000000  32561.000000  32561.000000   \n",
      "mean      38.581647  1.897784e+05      10.080679   1077.648844     87.303830   \n",
      "std       13.640433  1.055500e+05       2.572720   7385.292085    402.960219   \n",
      "min       17.000000  1.228500e+04       1.000000      0.000000      0.000000   \n",
      "25%       28.000000  1.178270e+05       9.000000      0.000000      0.000000   \n",
      "50%       37.000000  1.783560e+05      10.000000      0.000000      0.000000   \n",
      "75%       48.000000  2.370510e+05      12.000000      0.000000      0.000000   \n",
      "max       90.000000  1.484705e+06      16.000000  99999.000000   4356.000000   \n",
      "\n",
      "       hours_per_weak  \n",
      "count    32561.000000  \n",
      "mean        40.437456  \n",
      "std         12.347429  \n",
      "min          1.000000  \n",
      "25%         40.000000  \n",
      "50%         40.000000  \n",
      "75%         45.000000  \n",
      "max         99.000000  \n"
     ]
    }
   ],
   "source": [
    "print data.describe()"
   ]
  },
  {
   "cell_type": "code",
   "execution_count": 67,
   "metadata": {
    "collapsed": true
   },
   "outputs": [],
   "source": [
    "result = data.groupby(['native_country','class_label']).size()"
   ]
  },
  {
   "cell_type": "code",
   "execution_count": 69,
   "metadata": {},
   "outputs": [
    {
     "name": "stdout",
     "output_type": "stream",
     "text": [
      "<pandas.core.groupby.DataFrameGroupBy object at 0x000000000C27B588>\n"
     ]
    }
   ],
   "source": [
    "print data.groupby(['native_country','class_label'])"
   ]
  },
  {
   "cell_type": "code",
   "execution_count": 70,
   "metadata": {},
   "outputs": [
    {
     "name": "stdout",
     "output_type": "stream",
     "text": [
      "native_country               class_label\n",
      " ?                            <=50K           437\n",
      "                              >50K            146\n",
      " Cambodia                     <=50K            12\n",
      "                              >50K              7\n",
      " Canada                       <=50K            82\n",
      "                              >50K             39\n",
      " China                        <=50K            55\n",
      "                              >50K             20\n",
      " Columbia                     <=50K            57\n",
      "                              >50K              2\n",
      " Cuba                         <=50K            70\n",
      "                              >50K             25\n",
      " Dominican-Republic           <=50K            68\n",
      "                              >50K              2\n",
      " Ecuador                      <=50K            24\n",
      "                              >50K              4\n",
      " El-Salvador                  <=50K            97\n",
      "                              >50K              9\n",
      " England                      <=50K            60\n",
      "                              >50K             30\n",
      " France                       <=50K            17\n",
      "                              >50K             12\n",
      " Germany                      <=50K            93\n",
      "                              >50K             44\n",
      " Greece                       <=50K            21\n",
      "                              >50K              8\n",
      " Guatemala                    <=50K            61\n",
      "                              >50K              3\n",
      " Haiti                        <=50K            40\n",
      "                              >50K              4\n",
      "                                            ...  \n",
      " Mexico                       >50K             33\n",
      " Nicaragua                    <=50K            32\n",
      "                              >50K              2\n",
      " Outlying-US(Guam-USVI-etc)   <=50K            14\n",
      " Peru                         <=50K            29\n",
      "                              >50K              2\n",
      " Philippines                  <=50K           137\n",
      "                              >50K             61\n",
      " Poland                       <=50K            48\n",
      "                              >50K             12\n",
      " Portugal                     <=50K            33\n",
      "                              >50K              4\n",
      " Puerto-Rico                  <=50K           102\n",
      "                              >50K             12\n",
      " Scotland                     <=50K             9\n",
      "                              >50K              3\n",
      " South                        <=50K            64\n",
      "                              >50K             16\n",
      " Taiwan                       <=50K            31\n",
      "                              >50K             20\n",
      " Thailand                     <=50K            15\n",
      "                              >50K              3\n",
      " Trinadad&Tobago              <=50K            17\n",
      "                              >50K              2\n",
      " United-States                <=50K         21999\n",
      "                              >50K           7171\n",
      " Vietnam                      <=50K            62\n",
      "                              >50K              5\n",
      " Yugoslavia                   <=50K            10\n",
      "                              >50K              6\n",
      "Length: 82, dtype: int64\n"
     ]
    }
   ],
   "source": [
    "print result"
   ]
  },
  {
   "cell_type": "code",
   "execution_count": 75,
   "metadata": {
    "collapsed": true
   },
   "outputs": [],
   "source": [
    "from collections import defaultdict\n",
    "c = np.unique(data.native_country)\n",
    "k = np.unique(data.class_label)\n",
    "\n",
    "table = defaultdict( lambda: defaultdict(int) )\n",
    "for i,v in enumerate( result):\n",
    "    table[ c[ i/2 ] ][k[i%2] ] = v\n"
   ]
  },
  {
   "cell_type": "code",
   "execution_count": 85,
   "metadata": {},
   "outputs": [
    {
     "name": "stdout",
     "output_type": "stream",
     "text": [
      " Columbia overall 59 hight  57  low 2\n",
      "28.5\n",
      " Cuba overall 95 hight  70  low 25\n",
      "2.8\n",
      " Puerto-Rico overall 12 hight  9  low 3\n",
      "3.0\n",
      " Outlying-US(Guam-USVI-etc) overall 31 hight  29  low 2\n",
      "14.5\n",
      " El-Salvador overall 106 hight  97  low 9\n",
      "10.7777777778\n",
      " Guatemala overall 64 hight  61  low 3\n",
      "20.3333333333\n",
      " Holand-Netherlands overall 13 hight  1  low 12\n",
      "0.0833333333333\n",
      " United-States overall 67 hight  62  low 5\n",
      "12.4\n",
      " China overall 75 hight  55  low 20\n",
      "2.75\n",
      " Thailand overall 19 hight  17  low 2\n",
      "8.5\n",
      " Haiti overall 44 hight  40  low 4\n",
      "10.0\n",
      " Germany overall 137 hight  93  low 44\n",
      "2.11363636364\n",
      " Iran overall 37 hight  18  low 19\n",
      "0.947368421053\n",
      " Greece overall 29 hight  21  low 8\n",
      "2.625\n",
      " Dominican-Republic overall 70 hight  68  low 2\n",
      "34.0\n",
      " Poland overall 37 hight  33  low 4\n",
      "8.25\n",
      " Philippines overall 60 hight  48  low 12\n",
      "4.0\n",
      " Trinadad&Tobago overall 29170 hight  21999  low 7171\n",
      "3.06777297448\n",
      " Vietnam overall 16 hight  10  low 6\n",
      "1.66666666667\n",
      " South overall 51 hight  31  low 20\n",
      "1.55\n",
      " Honduras overall 15 hight  1  low 14\n",
      "0.0714285714286\n",
      " Mexico overall 65 hight  33  low 32\n",
      "1.03125\n",
      " Portugal overall 114 hight  102  low 12\n",
      "8.5\n",
      " England overall 90 hight  60  low 30\n",
      "2.0\n",
      " Jamaica overall 48 hight  10  low 38\n",
      "0.263157894737\n",
      " India overall 65 hight  40  low 25\n",
      "1.6\n",
      " Hungary overall 63 hight  3  low 60\n",
      "0.05\n",
      " Japan overall 40 hight  24  low 16\n",
      "1.5\n",
      " Taiwan overall 18 hight  15  low 3\n",
      "5.0\n",
      " ? overall 583 hight  437  low 146\n",
      "2.99315068493\n",
      " Nicaragua overall 16 hight  2  low 14\n",
      "0.142857142857\n",
      " Canada overall 121 hight  82  low 39\n",
      "2.10256410256\n",
      " Hong overall 16 hight  6  low 10\n",
      "0.6\n",
      " Italy overall 96 hight  25  low 71\n",
      "0.352112676056\n",
      " Scotland overall 80 hight  64  low 16\n",
      "4.0\n",
      " France overall 29 hight  17  low 12\n",
      "1.41666666667\n",
      " Cambodia overall 19 hight  12  low 7\n",
      "1.71428571429\n",
      " Ecuador overall 28 hight  24  low 4\n",
      "6.0\n",
      " Laos overall 612 hight  2  low 610\n",
      "0.00327868852459\n",
      " Peru overall 198 hight  137  low 61\n",
      "2.24590163934\n",
      " Ireland overall 53 hight  5  low 48\n",
      "0.104166666667\n"
     ]
    }
   ],
   "source": [
    "z = []\n",
    "for k,v in table.iteritems():\n",
    "    print k, \"overall\" , sum( v.values() ) , \"hight \", v[\" <=50K\"] , \" low\", v[\" >50K\"]\n",
    "    ration = float(v[\" <=50K\"] ) / v[\" >50K\"]\n",
    "    print ration\n",
    "    z.append(ration)\n",
    "    "
   ]
  },
  {
   "cell_type": "code",
   "execution_count": 119,
   "metadata": {},
   "outputs": [],
   "source": [
    "#print sorted(z)"
   ]
  },
  {
   "cell_type": "code",
   "execution_count": 118,
   "metadata": {},
   "outputs": [],
   "source": [
    "#print data"
   ]
  },
  {
   "cell_type": "code",
   "execution_count": 117,
   "metadata": {},
   "outputs": [],
   "source": [
    "#print data.iloc[np.random.permutation(len(data))]"
   ]
  },
  {
   "cell_type": "code",
   "execution_count": null,
   "metadata": {
    "collapsed": true
   },
   "outputs": [],
   "source": []
  }
 ],
 "metadata": {
  "kernelspec": {
   "display_name": "Python 2",
   "language": "python",
   "name": "python2"
  },
  "language_info": {
   "codemirror_mode": {
    "name": "ipython",
    "version": 2
   },
   "file_extension": ".py",
   "mimetype": "text/x-python",
   "name": "python",
   "nbconvert_exporter": "python",
   "pygments_lexer": "ipython2",
   "version": "2.7.13"
  }
 },
 "nbformat": 4,
 "nbformat_minor": 2
}
